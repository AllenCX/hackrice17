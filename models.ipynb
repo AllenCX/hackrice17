{
 "cells": [
  {
   "cell_type": "code",
   "execution_count": 1,
   "metadata": {
    "collapsed": true
   },
   "outputs": [],
   "source": [
    "import torch\n",
    "import torch.nn as nn\n",
    "import torch.nn.functional as F\n",
    "\n",
    "import numpy as np\n",
    "from torch.autograd import Variable\n",
    "\n",
    "import pandas as pd\n",
    "from sklearn.model_selection import train_test_split\n",
    "\n",
    "from PIL import Image\n",
    "\n",
    "import sys, os, shutil, random"
   ]
  },
  {
   "cell_type": "code",
   "execution_count": 2,
   "metadata": {
    "collapsed": true
   },
   "outputs": [],
   "source": [
    "EPOCHS = 10\n",
    "LR = 1e-4\n",
    "BATCH_SIZE = 4"
   ]
  },
  {
   "cell_type": "code",
   "execution_count": 3,
   "metadata": {},
   "outputs": [
    {
     "data": {
      "text/plain": [
       "'processed_train_info = pd.read_csv(\"processed_train_info.csv\")\\n\\nprocessed_train_info = processed_train_info.drop([\\'title\\', \\'style\\', \\'genre\\', \\'date\\', \\'Unnamed: 6\\', \\'Unnamed: 0\\'], axis=1)\\n\\nfilenames = processed_train_info[\\'filename\\'].tolist()\\nartists = processed_train_info[\\'artist\\'].tolist()'"
      ]
     },
     "execution_count": 3,
     "metadata": {},
     "output_type": "execute_result"
    }
   ],
   "source": [
    "'''processed_train_info = pd.read_csv(\"processed_train_info.csv\")\n",
    "\n",
    "processed_train_info = processed_train_info.drop(['title', 'style', 'genre', 'date', 'Unnamed: 6', 'Unnamed: 0'], axis=1)\n",
    "\n",
    "filenames = processed_train_info['filename'].tolist()\n",
    "artists = processed_train_info['artist'].tolist()'''"
   ]
  },
  {
   "cell_type": "code",
   "execution_count": 4,
   "metadata": {
    "scrolled": true
   },
   "outputs": [
    {
     "data": {
      "text/plain": [
       "'input_images = np.random.randint(low=0, high=255,size=(12747, 299, 299, 3), dtype=np.uint8)\\nfor i, filename in enumerate(filenames):\\n    if i  % 100 == 0:\\n        sys.stdout.write(\"%d\\r\"%i)\\n    im = np.asarray(Image.open(\"resized_train/\"+filename), dtype=np.uint8)\\n    if len(im.shape) == 2:\\n        im = np.expand_dims(im, axis=2)\\n        new_zeros = np.zeros(shape=(299,299,2), dtype=\\'uint8\\')\\n        im = np.concatenate((im, new_zeros), axis=2)\\n        print(im.shape)\\n    input_images[i] = im[:, :, :3]'"
      ]
     },
     "execution_count": 4,
     "metadata": {},
     "output_type": "execute_result"
    }
   ],
   "source": [
    "'''input_images = np.random.randint(low=0, high=255,size=(12747, 299, 299, 3), dtype=np.uint8)\n",
    "for i, filename in enumerate(filenames):\n",
    "    if i  % 100 == 0:\n",
    "        sys.stdout.write(\"%d\\r\"%i)\n",
    "    im = np.asarray(Image.open(\"resized_train/\"+filename), dtype=np.uint8)\n",
    "    if len(im.shape) == 2:\n",
    "        im = np.expand_dims(im, axis=2)\n",
    "        new_zeros = np.zeros(shape=(299,299,2), dtype='uint8')\n",
    "        im = np.concatenate((im, new_zeros), axis=2)\n",
    "        print(im.shape)\n",
    "    input_images[i] = im[:, :, :3]'''"
   ]
  },
  {
   "cell_type": "code",
   "execution_count": 5,
   "metadata": {},
   "outputs": [],
   "source": [
    "#np.save(\"input_images.npz\", input_images)"
   ]
  },
  {
   "cell_type": "code",
   "execution_count": 6,
   "metadata": {
    "collapsed": true
   },
   "outputs": [],
   "source": [
    "def save_checkpoint(state, is_best=False, filename='checkpoint.pth.tar'):\n",
    "    torch.save(state, filename)\n",
    "    if is_best:\n",
    "        shutil.copyfile(filename, 'model_best.pth.tar')"
   ]
  },
  {
   "cell_type": "code",
   "execution_count": 7,
   "metadata": {},
   "outputs": [],
   "source": [
    "artists = np.load(\"labels.npy\")\n",
    "input_images = np.load(\"input_images.npz.npy\")\n",
    "\n",
    "input_images = input_images.transpose(0, 3, 1, 2)\n",
    "#input_images = input_images\n",
    "\n",
    "x_train, x_valid, y_train, y_valid = train_test_split(input_images[:100], artists[:100], test_size=0.2)"
   ]
  },
  {
   "cell_type": "code",
   "execution_count": 8,
   "metadata": {
    "collapsed": true
   },
   "outputs": [],
   "source": [
    "class shallowCNN(nn.Module):\n",
    "    def __init__(self):\n",
    "        #self.config = config\n",
    "        super(shallowCNN, self).__init__()\n",
    "        # [in, out, kernel_size, stride, padding]\n",
    "        self.bn0 = nn.BatchNorm2d(3)\n",
    "        self.max_pool0 = nn.MaxPool2d(2, 2)\n",
    "        self.conv1 = nn.Conv2d(3, 16, 3, 1, 1)\n",
    "        self.bn1 = nn.BatchNorm2d(16)\n",
    "        self.max_pool1 = nn.MaxPool2d(2, 2)\n",
    "        \n",
    "        self.conv2 = nn.Conv2d(16, 32, 3, 1, 1)\n",
    "        self.bn2 = nn.BatchNorm2d(32)\n",
    "        self.max_pool2 = nn.MaxPool2d(2, 2)\n",
    "        \n",
    "        self.conv3 = nn.Conv2d(32, 64, 3, 1, 1)\n",
    "        self.bn3 = nn.BatchNorm2d(64)\n",
    "        self.max_pool3 = nn.MaxPool2d(2, 2)\n",
    "        \n",
    "        self.conv4 = nn.Conv2d(64, 64, 3, 1, 1)\n",
    "        self.bn4 = nn.BatchNorm2d(64)\n",
    "        self.max_pool4 = nn.MaxPool2d(2, 2)\n",
    "        \n",
    "        self.linear1 = nn.Linear(64 * 9 * 9, 2048)\n",
    "        self.linear2 = nn.Linear(2048, 346)\n",
    "    def forward(self, x):\n",
    "        x = self.max_pool0(self.bn0(x))\n",
    "        x = self.max_pool1(F.elu(self.bn1(self.conv1(x))))\n",
    "        x = self.max_pool2(F.elu(self.bn2(self.conv2(x))))\n",
    "        x = self.max_pool3(F.elu(self.bn3(self.conv3(x))))\n",
    "        x = self.max_pool4(F.elu(self.bn4(self.conv4(x))))\n",
    "        #print(x.size())\n",
    "        x = x.view(-1, x.size(1) * x.size(2) * x.size(3))\n",
    "        x = F.elu(self.linear1(x))\n",
    "        x = F.log_softmax(self.linear2(x))\n",
    "        return x"
   ]
  },
  {
   "cell_type": "code",
   "execution_count": 9,
   "metadata": {},
   "outputs": [],
   "source": [
    "model = shallowCNN()\n",
    "model.cuda()\n",
    "\n",
    "EPOCHS = 10\n",
    "LR = 1e-4\n",
    "BATCH_SIZE = 4\n",
    "best_prec = 0\n",
    "optimizer = torch.optim.Adam(model.parameters(), lr=LR)\n",
    "loss_fn = nn.NLLLoss()\n",
    "loss_list = []"
   ]
  },
  {
   "cell_type": "code",
   "execution_count": 11,
   "metadata": {},
   "outputs": [
    {
     "name": "stdout",
     "output_type": "stream",
     "text": [
      "Epoch: 0, Step 19/21, loss: 0.7007                                              \n",
      " 1\n",
      " 0\n",
      " 1\n",
      " 1\n",
      "[torch.ByteTensor of size 4x1]\n",
      "\n",
      "\n",
      " 0\n",
      " 0\n",
      " 0\n",
      " 1\n",
      "[torch.ByteTensor of size 4x1]\n",
      "\n",
      "\n",
      " 0\n",
      " 0\n",
      " 1\n",
      " 0\n",
      "[torch.ByteTensor of size 4x1]\n",
      "\n",
      "\n",
      " 1\n",
      " 0\n",
      " 0\n",
      " 0\n",
      "[torch.ByteTensor of size 4x1]\n",
      "\n",
      "\n",
      " 1\n",
      " 1\n",
      " 0\n",
      " 0\n",
      "[torch.ByteTensor of size 4x1]\n",
      "\n",
      "Epoch: 0, precision: 0.4000, loss: 0.8559\n",
      "Epoch: 1, Step 19/21, loss: 0.6446                                              \n",
      " 1\n",
      " 1\n",
      " 1\n",
      " 0\n",
      "[torch.ByteTensor of size 4x1]\n",
      "\n",
      "\n",
      " 0\n",
      " 0\n",
      " 0\n",
      " 1\n",
      "[torch.ByteTensor of size 4x1]\n",
      "\n",
      "\n",
      " 1\n",
      " 1\n",
      " 1\n",
      " 0\n",
      "[torch.ByteTensor of size 4x1]\n",
      "\n",
      "\n",
      " 1\n",
      " 0\n",
      " 0\n",
      " 0\n",
      "[torch.ByteTensor of size 4x1]\n",
      "\n",
      "\n",
      " 1\n",
      " 1\n",
      " 0\n",
      " 0\n",
      "[torch.ByteTensor of size 4x1]\n",
      "\n",
      "Epoch: 1, precision: 0.5000, loss: 0.8960\n"
     ]
    },
    {
     "ename": "KeyboardInterrupt",
     "evalue": "",
     "output_type": "error",
     "traceback": [
      "\u001b[0;31m---------------------------------------------------------------------------\u001b[0m",
      "\u001b[0;31mKeyboardInterrupt\u001b[0m                         Traceback (most recent call last)",
      "\u001b[0;32m<ipython-input-11-c0b57c3d1a7b>\u001b[0m in \u001b[0;36m<module>\u001b[0;34m()\u001b[0m\n\u001b[1;32m     53\u001b[0m             \u001b[0;34m'optimizer'\u001b[0m \u001b[0;34m:\u001b[0m \u001b[0moptimizer\u001b[0m\u001b[0;34m.\u001b[0m\u001b[0mstate_dict\u001b[0m\u001b[0;34m(\u001b[0m\u001b[0;34m)\u001b[0m\u001b[0;34m,\u001b[0m\u001b[0;34m\u001b[0m\u001b[0m\n\u001b[1;32m     54\u001b[0m             \u001b[0;34m'best_prec'\u001b[0m\u001b[0;34m:\u001b[0m \u001b[0mbest_prec\u001b[0m\u001b[0;34m\u001b[0m\u001b[0m\n\u001b[0;32m---> 55\u001b[0;31m         }, best_prec == correct)\n\u001b[0m\u001b[1;32m     56\u001b[0m \u001b[0;34m\u001b[0m\u001b[0m\n",
      "\u001b[0;32m<ipython-input-6-73f2077d4613>\u001b[0m in \u001b[0;36msave_checkpoint\u001b[0;34m(state, is_best, filename)\u001b[0m\n\u001b[1;32m      2\u001b[0m     \u001b[0mtorch\u001b[0m\u001b[0;34m.\u001b[0m\u001b[0msave\u001b[0m\u001b[0;34m(\u001b[0m\u001b[0mstate\u001b[0m\u001b[0;34m,\u001b[0m \u001b[0mfilename\u001b[0m\u001b[0;34m)\u001b[0m\u001b[0;34m\u001b[0m\u001b[0m\n\u001b[1;32m      3\u001b[0m     \u001b[0;32mif\u001b[0m \u001b[0mis_best\u001b[0m\u001b[0;34m:\u001b[0m\u001b[0;34m\u001b[0m\u001b[0m\n\u001b[0;32m----> 4\u001b[0;31m         \u001b[0mshutil\u001b[0m\u001b[0;34m.\u001b[0m\u001b[0mcopyfile\u001b[0m\u001b[0;34m(\u001b[0m\u001b[0mfilename\u001b[0m\u001b[0;34m,\u001b[0m \u001b[0;34m'model_best.pth.tar'\u001b[0m\u001b[0;34m)\u001b[0m\u001b[0;34m\u001b[0m\u001b[0m\n\u001b[0m",
      "\u001b[0;32m~/miniconda3/envs/py36/lib/python3.6/shutil.py\u001b[0m in \u001b[0;36mcopyfile\u001b[0;34m(src, dst, follow_symlinks)\u001b[0m\n\u001b[1;32m    120\u001b[0m         \u001b[0;32mwith\u001b[0m \u001b[0mopen\u001b[0m\u001b[0;34m(\u001b[0m\u001b[0msrc\u001b[0m\u001b[0;34m,\u001b[0m \u001b[0;34m'rb'\u001b[0m\u001b[0;34m)\u001b[0m \u001b[0;32mas\u001b[0m \u001b[0mfsrc\u001b[0m\u001b[0;34m:\u001b[0m\u001b[0;34m\u001b[0m\u001b[0m\n\u001b[1;32m    121\u001b[0m             \u001b[0;32mwith\u001b[0m \u001b[0mopen\u001b[0m\u001b[0;34m(\u001b[0m\u001b[0mdst\u001b[0m\u001b[0;34m,\u001b[0m \u001b[0;34m'wb'\u001b[0m\u001b[0;34m)\u001b[0m \u001b[0;32mas\u001b[0m \u001b[0mfdst\u001b[0m\u001b[0;34m:\u001b[0m\u001b[0;34m\u001b[0m\u001b[0m\n\u001b[0;32m--> 122\u001b[0;31m                 \u001b[0mcopyfileobj\u001b[0m\u001b[0;34m(\u001b[0m\u001b[0mfsrc\u001b[0m\u001b[0;34m,\u001b[0m \u001b[0mfdst\u001b[0m\u001b[0;34m)\u001b[0m\u001b[0;34m\u001b[0m\u001b[0m\n\u001b[0m\u001b[1;32m    123\u001b[0m     \u001b[0;32mreturn\u001b[0m \u001b[0mdst\u001b[0m\u001b[0;34m\u001b[0m\u001b[0m\n\u001b[1;32m    124\u001b[0m \u001b[0;34m\u001b[0m\u001b[0m\n",
      "\u001b[0;32m~/miniconda3/envs/py36/lib/python3.6/shutil.py\u001b[0m in \u001b[0;36mcopyfileobj\u001b[0;34m(fsrc, fdst, length)\u001b[0m\n\u001b[1;32m     80\u001b[0m         \u001b[0;32mif\u001b[0m \u001b[0;32mnot\u001b[0m \u001b[0mbuf\u001b[0m\u001b[0;34m:\u001b[0m\u001b[0;34m\u001b[0m\u001b[0m\n\u001b[1;32m     81\u001b[0m             \u001b[0;32mbreak\u001b[0m\u001b[0;34m\u001b[0m\u001b[0m\n\u001b[0;32m---> 82\u001b[0;31m         \u001b[0mfdst\u001b[0m\u001b[0;34m.\u001b[0m\u001b[0mwrite\u001b[0m\u001b[0;34m(\u001b[0m\u001b[0mbuf\u001b[0m\u001b[0;34m)\u001b[0m\u001b[0;34m\u001b[0m\u001b[0m\n\u001b[0m\u001b[1;32m     83\u001b[0m \u001b[0;34m\u001b[0m\u001b[0m\n\u001b[1;32m     84\u001b[0m \u001b[0;32mdef\u001b[0m \u001b[0m_samefile\u001b[0m\u001b[0;34m(\u001b[0m\u001b[0msrc\u001b[0m\u001b[0;34m,\u001b[0m \u001b[0mdst\u001b[0m\u001b[0;34m)\u001b[0m\u001b[0;34m:\u001b[0m\u001b[0;34m\u001b[0m\u001b[0m\n",
      "\u001b[0;31mKeyboardInterrupt\u001b[0m: "
     ]
    }
   ],
   "source": [
    "for epoch in range(EPOCHS):\n",
    "    model.train()\n",
    "    index = np.random.permutation(len(x_train))\n",
    "    x_train = x_train[index]\n",
    "    y_train = y_train[index]\n",
    "    for i in range(len(x_train) // BATCH_SIZE):\n",
    "        model.zero_grad()\n",
    "        \n",
    "        start_ix = i * BATCH_SIZE\n",
    "        end_ix = (i + 1) * BATCH_SIZE\n",
    "        x_batch = x_train[start_ix:end_ix]\n",
    "        y_batch = y_train[start_ix:end_ix]\n",
    "        x_batch = Variable(torch.from_numpy(x_batch).float(), requires_grad=False).cuda()\n",
    "        y_batch = Variable(torch.LongTensor(y_batch), requires_grad=False).cuda()\n",
    "        \n",
    "        logits = model(x_batch)\n",
    "        loss = loss_fn(logits, y_batch)\n",
    "        loss_list.append(loss.data[0])\n",
    "        if len(loss_list) > 10000:\n",
    "            loss_list = loss_list[1:]\n",
    "        loss.backward()\n",
    "        optimizer.step()\n",
    "        if i % 100:\n",
    "            sys.stdout.write(\" \"*80 + \"\\r\")\n",
    "            sys.stdout.write(\"Epoch: %d, Step %d/%d, loss: %.4f\\r\" % \n",
    "                             (epoch, i, len(x_train) // BATCH_SIZE + 1, np.mean(loss_list)))\n",
    "            \n",
    "\n",
    "    model.eval()\n",
    "    correct = 0\n",
    "    loss = 0\n",
    "    for i in range(len(x_valid) // BATCH_SIZE):\n",
    "        start_ix = i * BATCH_SIZE\n",
    "        end_ix = (i + 1) * BATCH_SIZE\n",
    "        x_batch = x_valid[start_ix:end_ix]\n",
    "        y_batch = y_valid[start_ix:end_ix]\n",
    "        x_batch = Variable(torch.from_numpy(x_batch).float(), requires_grad=False).cuda()\n",
    "        y_batch = Variable(torch.LongTensor(y_batch), requires_grad=False).cuda()\n",
    "        logits = model(x_batch)\n",
    "        #print(loss)\n",
    "        pred = logits.data.max(1, keepdim=True)[1]\n",
    "        correct += pred.eq(y_batch.data.view_as(pred)).cpu().sum()\n",
    "        print(pred.eq(y_batch.data.view_as(pred)).cpu())\n",
    "    correct /= len(x_valid)\n",
    "    loss /= len(x_valid)\n",
    "    print(\"Epoch: %d, precision: %.4f, loss: %.4f\" % (epoch, correct, loss))\n",
    "    if correct > best_prec:\n",
    "        best_prec = correct\n",
    "    save_checkpoint({\n",
    "            'epoch': epoch + 1,\n",
    "            'state_dict': model.state_dict(),\n",
    "            'optimizer' : optimizer.state_dict(),\n",
    "            'best_prec': best_prec\n",
    "        }, best_prec == correct)\n",
    "    "
   ]
  },
  {
   "cell_type": "code",
   "execution_count": null,
   "metadata": {
    "collapsed": true
   },
   "outputs": [],
   "source": []
  }
 ],
 "metadata": {
  "kernelspec": {
   "display_name": "Python 3",
   "language": "python",
   "name": "python3"
  },
  "language_info": {
   "codemirror_mode": {
    "name": "ipython",
    "version": 3
   },
   "file_extension": ".py",
   "mimetype": "text/x-python",
   "name": "python",
   "nbconvert_exporter": "python",
   "pygments_lexer": "ipython3",
   "version": "3.6.2"
  }
 },
 "nbformat": 4,
 "nbformat_minor": 2
}

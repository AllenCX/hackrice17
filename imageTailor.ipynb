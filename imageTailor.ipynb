{
 "cells": [
  {
   "cell_type": "code",
   "execution_count": null,
   "metadata": {
    "collapsed": true
   },
   "outputs": [],
   "source": [
    "import PIL\n",
    "from PIL import Image\n",
    "import os\n",
    "mypath = \"D:/Rice\"\n",
    "loadpath = \"/HacKRice/DATA/new_train/\"\n",
    "savepath = \"/HacKRice/DATA/tailored_new_train/\"\n",
    "files = os.listdir(mypath + loadpath)\n",
    "for filename in files:\n",
    "    im = Image.open(mypath + loadpath +filename)\n",
    "    size = im.size\n",
    "    wid = size[0]\n",
    "    hei = size[1]\n",
    "    if wid < hei:\n",
    "        newsize = (256, round(256/ wid * hei))\n",
    "    else:\n",
    "        newsize = (round(wid * 256 / hei ), 256)\n",
    "        newim = im.resize(newsize)\n",
    "        newsize = newim.size\n",
    "        mid = (newsize[0]/2, newsize[1]/2)\n",
    "        if mid[0] < mid[1]:\n",
    "            box = (0, mid[1] - 128 , 256, mid[1] + 128)\n",
    "        else:\n",
    "            box = (mid[0] - 128, 0, mid[0] + 128, 256)\n",
    "            try:\n",
    "                newsize == (256, 256)\n",
    "            except:\n",
    "                print(newsize, filename)\n",
    "            finlim = newim.crop(box)\n",
    "            finlim.save(mypath + savepath + filename)"
   ]
  },
  {
   "cell_type": "code",
   "execution_count": null,
   "metadata": {
    "collapsed": true
   },
   "outputs": [],
   "source": [
    "import PIL\n",
    "from PIL import Image\n",
    "import os\n",
    "loadpath = input(\"loadpath: (example: D:/Rice/HackRice/DATA/new_train)\")\n",
    "savepath = input(\"savepath: (example: D:/Rice/HackRice/DATA/tailored_new_train)\")\n",
    "files = os.listdir(loadpath)\n",
    "for filename in files:\n",
    "    im = Image.open(loadpath + filename)\n",
    "    size = im.size\n",
    "    wid = size[0]\n",
    "    hei = size[1]\n",
    "    if wid < hei:\n",
    "        newsize = (256, round(256/ wid * hei))\n",
    "    else:\n",
    "        newsize = (round(wid * 256 / hei ), 256)\n",
    "        newim = im.resize(newsize)\n",
    "        newsize = newim.size\n",
    "        mid = (newsize[0]/2, newsize[1]/2)\n",
    "        if mid[0] < mid[1]:\n",
    "            box = (0, mid[1] - 128 , 256, mid[1] + 128)\n",
    "        else:\n",
    "            box = (mid[0] - 128, 0, mid[0] + 128, 256)\n",
    "            try:\n",
    "                newsize == (256, 256)\n",
    "            except:\n",
    "                print(newsize, filename)\n",
    "            finlim = newim.crop(box)\n",
    "            finlim.save(savepath + filename)"
   ]
  }
 ],
 "metadata": {
  "kernelspec": {
   "display_name": "Python 3",
   "language": "python",
   "name": "python3"
  },
  "language_info": {
   "codemirror_mode": {
    "name": "ipython",
    "version": 3
   },
   "file_extension": ".py",
   "mimetype": "text/x-python",
   "name": "python",
   "nbconvert_exporter": "python",
   "pygments_lexer": "ipython3",
   "version": "3.6.2"
  }
 },
 "nbformat": 4,
 "nbformat_minor": 2
}

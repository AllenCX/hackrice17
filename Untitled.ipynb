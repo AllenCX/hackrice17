{
 "cells": [
  {
   "cell_type": "code",
   "execution_count": 1,
   "metadata": {
    "collapsed": true
   },
   "outputs": [],
   "source": [
    "import torch\n",
    "import torch.nn as nn\n",
    "import torch.nn.functional as F\n",
    "\n",
    "import numpy as np\n",
    "from torch.autograd import Variable\n",
    "\n",
    "import pandas as pd\n",
    "from sklearn.model_selection import train_test_split\n",
    "\n",
    "from PIL import Image\n",
    "\n",
    "import sys, os, shutil, random"
   ]
  },
  {
   "cell_type": "code",
   "execution_count": 17,
   "metadata": {},
   "outputs": [],
   "source": [
    "train_info = pd.read_csv(\"processed_train_info.csv\")\n",
    "\n",
    "processed_train_info = train_info.drop(['title', 'style', 'genre', 'date', 'Unnamed: 6', 'Unnamed: 0'], axis=1)\n",
    "\n",
    "filenames = processed_train_info['filename'].tolist()\n",
    "artists = processed_train_info['artist'].tolist()\n",
    "\n",
    "artist_dict = {}\n",
    "for i in range(len(artists)):\n",
    "    if artists[i] not in artist_dict:\n",
    "        artist_dict[artists[i]] = [filenames[i]]\n",
    "    else:\n",
    "        artist_dict[artists[i]].append(filenames[i])"
   ]
  },
  {
   "cell_type": "code",
   "execution_count": 47,
   "metadata": {
    "collapsed": true
   },
   "outputs": [],
   "source": [
    "def pick_positive_pair(artists, artist_dict):\n",
    "\tartist = np.random.choice(artists)\n",
    "\treturn np.random.choice(artist_dict[artist], 2), artist"
   ]
  },
  {
   "cell_type": "code",
   "execution_count": 48,
   "metadata": {},
   "outputs": [],
   "source": [
    "def pick_negative_pair(artists, artist_dict):\n",
    "    artist_pair = np.random.choice(artists, 2)\n",
    "    return [np.random.choice(artist_dict[artist_pair[0]]), np.random.choice(artist_dict[artist_pair[1]])]"
   ]
  },
  {
   "cell_type": "code",
   "execution_count": 49,
   "metadata": {
    "scrolled": false
   },
   "outputs": [
    {
     "data": {
      "text/plain": [
       "(array(['37748.jpg', '66545.jpg'],\n",
       "       dtype='<U10'), 90)"
      ]
     },
     "execution_count": 49,
     "metadata": {},
     "output_type": "execute_result"
    }
   ],
   "source": [
    "pick_positive_pair(artists, artist_dict)"
   ]
  },
  {
   "cell_type": "code",
   "execution_count": 50,
   "metadata": {},
   "outputs": [
    {
     "data": {
      "text/plain": [
       "['67685.jpg', '41039.jpg']"
      ]
     },
     "execution_count": 50,
     "metadata": {},
     "output_type": "execute_result"
    }
   ],
   "source": [
    "pick_negative_pair(artists, artist_dict)"
   ]
  },
  {
   "cell_type": "code",
   "execution_count": 33,
   "metadata": {
    "collapsed": true
   },
   "outputs": [],
   "source": [
    "class shallowCNN(nn.Module):\n",
    "    def __init__(self):\n",
    "        #self.config = config\n",
    "        super(shallowCNN, self).__init__()\n",
    "        # [in, out, kernel_size, stride, padding]\n",
    "        self.bn0 = nn.BatchNorm2d(3)\n",
    "        self.max_pool0 = nn.MaxPool2d(2, 2)\n",
    "\n",
    "        self.conv1 = nn.Conv2d(3, 16, 3, 1, 1)\n",
    "        self.bn1 = nn.BatchNorm2d(16)\n",
    "        self.max_pool1 = nn.MaxPool2d(2, 2)\n",
    "\n",
    "        self.conv2 = nn.Conv2d(16, 32, 3, 1, 1)\n",
    "        self.bn2 = nn.BatchNorm2d(32)\n",
    "        self.max_pool2 = nn.MaxPool2d(2, 2)\n",
    "\n",
    "        self.conv3 = nn.Conv2d(32, 64, 3, 1, 1)\n",
    "        self.bn3 = nn.BatchNorm2d(64)\n",
    "        self.max_pool3 = nn.MaxPool2d(2, 2)\n",
    "        \n",
    "        self.conv4 = nn.Conv2d(64, 128, 3, 1, 1)\n",
    "        self.bn4 = nn.BatchNorm2d(128)\n",
    "        self.max_pool4 = nn.MaxPool2d(2, 2)\n",
    "\n",
    "        self.conv5 = nn.Conv2d(128, 256, 3, 1, 1)\n",
    "        self.bn5 = nn.BatchNorm2d(256)\n",
    "        self.max_pool5 = nn.MaxPool2d(2, 2)\n",
    "        self.linear1 = nn.Linear(256 * 4 * 4 * 2, 2048)\n",
    "\n",
    "        self.linear2 = nn.Linear(2048, 346)\n",
    "    def forward(self, x, xx):\n",
    "        x = self.max_pool0(self.bn0(x))\n",
    "        x = self.max_pool1(F.leaky_relu(self.bn1(self.conv1(x))))\n",
    "        x = self.max_pool2(F.leaky_relu(self.bn2(self.conv2(x))))\n",
    "        x = self.max_pool3(F.leaky_relu(self.bn3(self.conv3(x))))\n",
    "        x = self.max_pool4(F.leaky_relu(self.bn4(self.conv4(x))))\n",
    "        x = self.max_pool5(F.leaky_relu(self.bn5(self.conv5(x))))\n",
    "        #print(x.size(), x.size(1) * x.size(2) * x.size(3))\n",
    "        #exit()\n",
    "        x = x.view(-1, x.size(1) * x.size(2) * x.size(3))\n",
    "       \n",
    "        xx = self.max_pool0(self.bn0(xx))\n",
    "        xx = self.max_pool1(F.leaky_relu(self.bn1(self.conv1(xx))))\n",
    "        xx = self.max_pool2(F.leaky_relu(self.bn2(self.conv2(xx))))\n",
    "        xx = self.max_pool3(F.leaky_relu(self.bn3(self.conv3(xx))))\n",
    "        xx = self.max_pool4(F.leaky_relu(self.bn4(self.conv4(xx))))\n",
    "        xx = self.max_pool5(F.leaky_relu(self.bn5(self.conv5(xx))))\n",
    "        xx = xx.view(-1, xx.size(1) * xx.size(2) * xx.size(3)) #[M, 4096]\n",
    "\n",
    "        xxx = torch.cat([x, xx], dim=1) #[M, 4096 * 2]\n",
    "        xxx = F.leaky_relu(self.linear1(xxx))\n",
    "        xxx = F.dropout(xxx, p=0.5)\n",
    "        xxx = F.sigmoid(xxx)\n",
    "        return x"
   ]
  },
  {
   "cell_type": "code",
   "execution_count": 34,
   "metadata": {
    "collapsed": true
   },
   "outputs": [],
   "source": [
    "model = shallowCNN()"
   ]
  },
  {
   "cell_type": "code",
   "execution_count": 57,
   "metadata": {
    "collapsed": true
   },
   "outputs": [],
   "source": [
    "submission_info = pd.read_csv(\"submission_info.csv\", index_col=['index'])"
   ]
  },
  {
   "cell_type": "code",
   "execution_count": 61,
   "metadata": {
    "scrolled": true
   },
   "outputs": [
    {
     "name": "stdout",
     "output_type": "stream",
     "text": [
      "[[[128 122 126]\n",
      "  [154 148 152]\n",
      "  [163 157 161]\n",
      "  ..., \n",
      "  [120 123 128]\n",
      "  [137 140 145]\n",
      "  [157 160 165]]\n",
      "\n",
      " [[141 135 139]\n",
      "  [161 155 159]\n",
      "  [162 156 160]\n",
      "  ..., \n",
      "  [135 138 143]\n",
      "  [142 145 150]\n",
      "  [150 153 158]]\n",
      "\n",
      " [[154 148 152]\n",
      "  [166 160 164]\n",
      "  [158 152 156]\n",
      "  ..., \n",
      "  [129 132 137]\n",
      "  [132 135 140]\n",
      "  [136 139 144]]\n",
      "\n",
      " ..., \n",
      " [[121 136 157]\n",
      "  [163 178 201]\n",
      "  [171 185 211]\n",
      "  ..., \n",
      "  [182 190 211]\n",
      "  [176 184 203]\n",
      "  [173 182 199]]\n",
      "\n",
      " [[115 130 151]\n",
      "  [158 173 194]\n",
      "  [165 180 203]\n",
      "  ..., \n",
      "  [184 192 213]\n",
      "  [179 187 206]\n",
      "  [175 183 202]]\n",
      "\n",
      " [[112 127 146]\n",
      "  [154 169 190]\n",
      "  [161 176 199]\n",
      "  ..., \n",
      "  [186 194 215]\n",
      "  [181 189 210]\n",
      "  [178 186 205]]]\n"
     ]
    }
   ],
   "source": [
    "for i in range(len(submission_info[\"img1\"])):\n",
    "    im1 = np.array(Image.open(\"resized_test/\" + submission_info[\"img1\"][i]))\n",
    "    im2 = np.array(Image.open(\"resized_test/\" + submission_info[\"img2\"][i]))\n",
    "    "
   ]
  },
  {
   "cell_type": "code",
   "execution_count": 62,
   "metadata": {
    "collapsed": true
   },
   "outputs": [],
   "source": [
    "d = {0:1, 1:2}"
   ]
  },
  {
   "cell_type": "code",
   "execution_count": 65,
   "metadata": {},
   "outputs": [],
   "source": [
    "s = pd.Series(d)"
   ]
  },
  {
   "cell_type": "code",
   "execution_count": 69,
   "metadata": {},
   "outputs": [],
   "source": [
    "s.to_csv(\"test.csv\", index_label=\"index\", header=[\"h1\"])"
   ]
  },
  {
   "cell_type": "code",
   "execution_count": null,
   "metadata": {
    "collapsed": true
   },
   "outputs": [],
   "source": []
  }
 ],
 "metadata": {
  "kernelspec": {
   "display_name": "Python 3",
   "language": "python",
   "name": "python3"
  },
  "language_info": {
   "codemirror_mode": {
    "name": "ipython",
    "version": 3
   },
   "file_extension": ".py",
   "mimetype": "text/x-python",
   "name": "python",
   "nbconvert_exporter": "python",
   "pygments_lexer": "ipython3",
   "version": "3.6.2"
  }
 },
 "nbformat": 4,
 "nbformat_minor": 2
}

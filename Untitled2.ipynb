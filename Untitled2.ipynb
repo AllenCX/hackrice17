{
 "cells": [
  {
   "cell_type": "code",
   "execution_count": 1,
   "metadata": {
    "collapsed": true
   },
   "outputs": [],
   "source": [
    "import numpy as np\n",
    "import pandas as pd\n",
    "from PIL import Image"
   ]
  },
  {
   "cell_type": "code",
   "execution_count": 2,
   "metadata": {},
   "outputs": [],
   "source": [
    "submission_info = pd.read_csv(\"submission_info.csv\")\n"
   ]
  },
  {
   "cell_type": "code",
   "execution_count": 3,
   "metadata": {},
   "outputs": [],
   "source": [
    "submission_info = submission_info.drop(['index'], axis=1)"
   ]
  },
  {
   "cell_type": "code",
   "execution_count": 4,
   "metadata": {},
   "outputs": [],
   "source": [
    "test_img1 = np.zeros((5006, 299, 299, 3), dtype=np.uint8)\n",
    "test_img2 = np.zeros((5006, 299, 299, 3), dtype=np.uint8)\n",
    "\n",
    "for i in range(len(submission_info['img1'])):\n",
    "    im1 = np.array(Image.open(\"resized_test/\" + submission_info['img1'][i]))\n",
    "    im2 = np.array(Image.open(\"resized_test/\" + submission_info['img2'][i]))\n",
    "    if len(im1.shape) == 2:\n",
    "        im1 = im1.reshape(299, 299, 1)\n",
    "        pad_matrix = np.zeros((299, 299, 2))\n",
    "        im1 = np.concatenate((im1, pad_matrix), axis=2)\n",
    "    if len(im2.shape) == 2:\n",
    "        im2 = im2.reshape(299, 299, 1)\n",
    "        pad_matrix = np.zeros((299, 299, 2))\n",
    "        im2 = np.concatenate((im2, pad_matrix), axis=2)\n",
    "    test_img1[i] = im1\n",
    "    test_img2[i] = im2"
   ]
  },
  {
   "cell_type": "code",
   "execution_count": 5,
   "metadata": {
    "collapsed": true
   },
   "outputs": [],
   "source": [
    "np.save(\"test_img1\", test_img1)\n",
    "np.save(\"test_img2\", test_img2)"
   ]
  },
  {
   "cell_type": "code",
   "execution_count": null,
   "metadata": {
    "collapsed": true
   },
   "outputs": [],
   "source": []
  }
 ],
 "metadata": {
  "kernelspec": {
   "display_name": "Python 3",
   "language": "python",
   "name": "python3"
  },
  "language_info": {
   "codemirror_mode": {
    "name": "ipython",
    "version": 3
   },
   "file_extension": ".py",
   "mimetype": "text/x-python",
   "name": "python",
   "nbconvert_exporter": "python",
   "pygments_lexer": "ipython3",
   "version": "3.6.2"
  }
 },
 "nbformat": 4,
 "nbformat_minor": 2
}
